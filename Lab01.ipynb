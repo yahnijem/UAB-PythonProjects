{
 "cells": [
  {
   "cell_type": "markdown",
   "id": "aa90fa60-5e87-4358-9646-825570fd33bc",
   "metadata": {},
   "source": [
    "Lab01 Assignment"
   ]
  },
  {
   "cell_type": "markdown",
   "id": "73bdf3d5-fda9-4d37-8de6-1ce6280d7617",
   "metadata": {},
   "source": [
    "Yahni Jemison\n",
    "BlazerID: yjemison"
   ]
  },
  {
   "cell_type": "code",
   "execution_count": 4,
   "id": "8c5d9893-1473-430c-8db9-b9d85c6903ff",
   "metadata": {},
   "outputs": [
    {
     "name": "stdout",
     "output_type": "stream",
     "text": [
      "Hello World\n"
     ]
    }
   ],
   "source": [
    "print('Hello World')"
   ]
  },
  {
   "cell_type": "code",
   "execution_count": 6,
   "id": "a1127ba9-393e-422c-9b9c-a6c6eb7246b4",
   "metadata": {},
   "outputs": [
    {
     "data": {
      "text/plain": [
       "15"
      ]
     },
     "execution_count": 6,
     "metadata": {},
     "output_type": "execute_result"
    }
   ],
   "source": [
    "10+5"
   ]
  },
  {
   "cell_type": "code",
   "execution_count": 10,
   "id": "b770137a-2935-445e-8cec-ebd5a15c1862",
   "metadata": {},
   "outputs": [
    {
     "data": {
      "text/plain": [
       "132"
      ]
     },
     "execution_count": 10,
     "metadata": {},
     "output_type": "execute_result"
    }
   ],
   "source": [
    "3*44"
   ]
  },
  {
   "cell_type": "code",
   "execution_count": null,
   "id": "482c6d69-21de-42ba-88bf-66547302940a",
   "metadata": {},
   "outputs": [],
   "source": []
  }
 ],
 "metadata": {
  "kernelspec": {
   "display_name": "Python 3 (ipykernel)",
   "language": "python",
   "name": "python3"
  },
  "language_info": {
   "codemirror_mode": {
    "name": "ipython",
    "version": 3
   },
   "file_extension": ".py",
   "mimetype": "text/x-python",
   "name": "python",
   "nbconvert_exporter": "python",
   "pygments_lexer": "ipython3",
   "version": "3.12.4"
  }
 },
 "nbformat": 4,
 "nbformat_minor": 5
}
