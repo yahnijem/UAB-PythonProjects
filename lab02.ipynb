{
 "cells": [
  {
   "cell_type": "code",
   "execution_count": 29,
   "id": "e8a8e05c-043e-4f8f-adcc-1384fc487666",
   "metadata": {},
   "outputs": [],
   "source": [
    "import math"
   ]
  },
  {
   "cell_type": "code",
   "execution_count": 3,
   "id": "1469b3ed-b238-4f6e-b7a4-e1b0ad232de8",
   "metadata": {},
   "outputs": [],
   "source": [
    "def addTwoNumbers (f1,f2):\n",
    "    return f1+f2"
   ]
  },
  {
   "cell_type": "code",
   "execution_count": 5,
   "id": "b63e59a4-d114-444d-82f2-cea0b3ebc5a8",
   "metadata": {},
   "outputs": [],
   "source": [
    "f1=25.2"
   ]
  },
  {
   "cell_type": "code",
   "execution_count": 7,
   "id": "c7d15cff-e55f-48f4-b071-12c9253f0f2f",
   "metadata": {},
   "outputs": [],
   "source": [
    "f2=7.3"
   ]
  },
  {
   "cell_type": "code",
   "execution_count": 11,
   "id": "24e85722-375b-465b-9e97-496958b39b58",
   "metadata": {},
   "outputs": [
    {
     "name": "stdout",
     "output_type": "stream",
     "text": [
      "32.5\n"
     ]
    }
   ],
   "source": [
    "print(addTwoNumbers(f1,f2))"
   ]
  },
  {
   "cell_type": "code",
   "execution_count": 13,
   "id": "c620e890-222c-47b2-b444-7f43ec446399",
   "metadata": {},
   "outputs": [],
   "source": [
    "def divTwoNumbers (f5,f6):\n",
    "    return f5/f6"
   ]
  },
  {
   "cell_type": "code",
   "execution_count": 15,
   "id": "b0f6fba7-9f33-4e5b-b8e9-a04733bb10a0",
   "metadata": {},
   "outputs": [],
   "source": [
    "f5=12.6\n",
    "f6=3.0"
   ]
  },
  {
   "cell_type": "code",
   "execution_count": 17,
   "id": "9627957d-07ac-4fd2-9813-4eeafc5f43b0",
   "metadata": {},
   "outputs": [
    {
     "name": "stdout",
     "output_type": "stream",
     "text": [
      "4.2\n"
     ]
    }
   ],
   "source": [
    "print(divTwoNumbers(f5,f6))"
   ]
  },
  {
   "cell_type": "code",
   "execution_count": 19,
   "id": "e57887c7-d75a-4108-b915-4c70f488deac",
   "metadata": {},
   "outputs": [],
   "source": [
    "def subTwoNumbers (f7,f8):\n",
    "    return f7-f8"
   ]
  },
  {
   "cell_type": "code",
   "execution_count": 23,
   "id": "c169e0f4-75a1-4dd3-8dd0-247374b35bdd",
   "metadata": {},
   "outputs": [
    {
     "data": {
      "text/plain": [
       "2.55"
      ]
     },
     "execution_count": 23,
     "metadata": {},
     "output_type": "execute_result"
    }
   ],
   "source": [
    "subTwoNumbers(6.66,4.11)"
   ]
  },
  {
   "cell_type": "code",
   "execution_count": 25,
   "id": "d55e4e86-0d94-4444-9ebc-194b67f32284",
   "metadata": {},
   "outputs": [],
   "source": [
    "def multTwoNumbers(f9,f10):\n",
    "    return f9*f10"
   ]
  },
  {
   "cell_type": "code",
   "execution_count": 27,
   "id": "177fa5c1-d30f-4b1d-beb6-64df39bee8b3",
   "metadata": {},
   "outputs": [
    {
     "data": {
      "text/plain": [
       "6.6000000000000005"
      ]
     },
     "execution_count": 27,
     "metadata": {},
     "output_type": "execute_result"
    }
   ],
   "source": [
    "multTwoNumbers(2.2,3.0)"
   ]
  },
  {
   "cell_type": "code",
   "execution_count": 56,
   "id": "3be47492-0590-4ab0-a213-b2ad3c792334",
   "metadata": {},
   "outputs": [
    {
     "data": {
      "text/plain": [
       "68"
      ]
     },
     "execution_count": 56,
     "metadata": {},
     "output_type": "execute_result"
    }
   ],
   "source": [
    "def specialFunction (x,y):\n",
    "    m= (x+y)**3\n",
    "    n= math.sqrt((x**2+y**2))\n",
    "    p= m/n\n",
    "    return int(p)\n",
    "\n",
    "specialFunction(3,4)"
   ]
  },
  {
   "cell_type": "code",
   "execution_count": null,
   "id": "6e60e0e9-47e0-4fa8-b8bc-d93d6b53fa15",
   "metadata": {},
   "outputs": [],
   "source": []
  },
  {
   "cell_type": "code",
   "execution_count": null,
   "id": "7ceb8c1c-d96b-44a8-b8bb-73141ff64eee",
   "metadata": {},
   "outputs": [],
   "source": []
  }
 ],
 "metadata": {
  "kernelspec": {
   "display_name": "Python 3 (ipykernel)",
   "language": "python",
   "name": "python3"
  },
  "language_info": {
   "codemirror_mode": {
    "name": "ipython",
    "version": 3
   },
   "file_extension": ".py",
   "mimetype": "text/x-python",
   "name": "python",
   "nbconvert_exporter": "python",
   "pygments_lexer": "ipython3",
   "version": "3.12.4"
  }
 },
 "nbformat": 4,
 "nbformat_minor": 5
}
