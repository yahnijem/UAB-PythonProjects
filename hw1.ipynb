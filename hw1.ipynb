{
 "cells": [
  {
   "cell_type": "markdown",
   "id": "3157265d",
   "metadata": {},
   "source": [
    "\n",
    "# HW1, CS103 Fall 2024\n",
    "# name: \n",
    "# blazerid: \n"
   ]
  },
  {
   "cell_type": "code",
   "execution_count": null,
   "id": "8cc141f8-06d7-4935-a30d-1b7efb3b42a2",
   "metadata": {},
   "outputs": [],
   "source": []
  },
  {
   "cell_type": "markdown",
   "id": "622a8ab3",
   "metadata": {},
   "source": [
    "Let's define a sample function"
   ]
  },
  {
   "cell_type": "code",
   "execution_count": 6,
   "id": "879158d5",
   "metadata": {},
   "outputs": [],
   "source": [
    "def myName (): \n",
    "    # PLEASE REPLACE 'James Bond' BY YOUR NAME; do not change anything else;\n",
    "    # for example, leave the single quotes alone as you insert your name\n",
    "    return 'Yahni Jemison'\n"
   ]
  },
  {
   "cell_type": "markdown",
   "id": "0fb7d8d7",
   "metadata": {},
   "source": [
    "You need to run the function above before you \"call\" the function."
   ]
  },
  {
   "cell_type": "markdown",
   "id": "bcba3377",
   "metadata": {},
   "source": [
    "Now, we can call the function"
   ]
  },
  {
   "cell_type": "code",
   "execution_count": 8,
   "id": "fd3a59b5",
   "metadata": {},
   "outputs": [
    {
     "name": "stdout",
     "output_type": "stream",
     "text": [
      "My name is : Yahni Jemison\n"
     ]
    }
   ],
   "source": [
    "print(\"My name is : {}\".format(myName()))"
   ]
  },
  {
   "cell_type": "markdown",
   "id": "554eb754",
   "metadata": {},
   "source": [
    "Now, change the \"James Bond\" part with your real name. Please note that if you change anything else, you may ruin the function "
   ]
  },
  {
   "cell_type": "markdown",
   "id": "4653cb89",
   "metadata": {},
   "source": [
    "# PRACTICE PROBLEM"
   ]
  },
  {
   "cell_type": "markdown",
   "id": "aa815329",
   "metadata": {},
   "source": [
    "Please check hw1.pdf file and follow the instructions to solve this problem"
   ]
  },
  {
   "cell_type": "code",
   "execution_count": 10,
   "id": "d85fa814",
   "metadata": {},
   "outputs": [],
   "source": [
    "def f(x):\n",
    "    return 5*x-3"
   ]
  },
  {
   "cell_type": "markdown",
   "id": "8750a8eb",
   "metadata": {},
   "source": [
    "After you edit your function, we will be calling the function with different inputs(test cases) to compare the output"
   ]
  },
  {
   "cell_type": "markdown",
   "id": "6f5c2a78",
   "metadata": {},
   "source": [
    "First I will be calling the function using first test case (x=5)and the expected result is 22"
   ]
  },
  {
   "cell_type": "code",
   "execution_count": 12,
   "id": "13c5eb41",
   "metadata": {},
   "outputs": [
    {
     "name": "stdout",
     "output_type": "stream",
     "text": [
      "22\n"
     ]
    }
   ],
   "source": [
    "print (f(5))"
   ]
  },
  {
   "cell_type": "markdown",
   "id": "19f26822",
   "metadata": {},
   "source": [
    "Now, I will check the second test case (x=0) and the expected result is -3"
   ]
  },
  {
   "cell_type": "code",
   "execution_count": 14,
   "id": "3cdbda4f",
   "metadata": {},
   "outputs": [
    {
     "name": "stdout",
     "output_type": "stream",
     "text": [
      "-3\n"
     ]
    }
   ],
   "source": [
    "print (f(0))"
   ]
  },
  {
   "cell_type": "markdown",
   "id": "e3e9bd37",
   "metadata": {},
   "source": [
    "Let's check the final test case (x=2.5) and the expected result is 9.5"
   ]
  },
  {
   "cell_type": "code",
   "execution_count": 16,
   "id": "f4b793c2",
   "metadata": {},
   "outputs": [
    {
     "name": "stdout",
     "output_type": "stream",
     "text": [
      "9.5\n"
     ]
    }
   ],
   "source": [
    "print (f(2.5))"
   ]
  },
  {
   "cell_type": "markdown",
   "id": "b53c47da",
   "metadata": {},
   "source": [
    "# HW1 Problems"
   ]
  },
  {
   "cell_type": "markdown",
   "id": "6515cd0a",
   "metadata": {},
   "source": [
    "Now it is your turn to solve the next 5 questions. Remember, you will first modify the function with the correct equation and then you will check the result of each test cases"
   ]
  },
  {
   "cell_type": "markdown",
   "id": "e102d875-6bb1-4bac-b206-d81ceed90fdd",
   "metadata": {},
   "source": [
    "# 1) Perimeter of the Rectangle"
   ]
  },
  {
   "cell_type": "code",
   "execution_count": 503,
   "id": "0c1a53e9",
   "metadata": {},
   "outputs": [],
   "source": [
    "def perimeterRectangle (l,w) :\n",
    "    \n",
    "    return (l*2.0)+(w*2.0)"
   ]
  },
  {
   "cell_type": "code",
   "execution_count": 505,
   "id": "e44e6556",
   "metadata": {},
   "outputs": [
    {
     "name": "stdout",
     "output_type": "stream",
     "text": [
      "16.0\n"
     ]
    }
   ],
   "source": [
    "l = 5\n",
    "w = 3\n",
    "print (perimeterRectangle (l,w) )"
   ]
  },
  {
   "cell_type": "code",
   "execution_count": 507,
   "id": "807e8127",
   "metadata": {},
   "outputs": [
    {
     "name": "stdout",
     "output_type": "stream",
     "text": [
      "29.4\n"
     ]
    }
   ],
   "source": [
    "l = 10.5\n",
    "w = 4.2\n",
    "print (perimeterRectangle (l,w) )"
   ]
  },
  {
   "cell_type": "code",
   "execution_count": 509,
   "id": "be4379d8",
   "metadata": {},
   "outputs": [
    {
     "name": "stdout",
     "output_type": "stream",
     "text": [
      "0.6000000000000001\n"
     ]
    }
   ],
   "source": [
    "l = 0.1\n",
    "w = 0.2\n",
    "print (perimeterRectangle (l,w) )"
   ]
  },
  {
   "cell_type": "markdown",
   "id": "514d47ea",
   "metadata": {},
   "source": [
    "# 2) Calculate the Discount"
   ]
  },
  {
   "cell_type": "code",
   "execution_count": 36,
   "id": "5887b03e",
   "metadata": {},
   "outputs": [],
   "source": [
    "def calculateDiscount(price, discount):\n",
    "    return price-(discount/100)*price"
   ]
  },
  {
   "cell_type": "code",
   "execution_count": 38,
   "id": "7d8d8af6",
   "metadata": {},
   "outputs": [
    {
     "name": "stdout",
     "output_type": "stream",
     "text": [
      "80.0\n"
     ]
    }
   ],
   "source": [
    "price = 100\n",
    "discount = 20\n",
    "print(calculateDiscount(price, discount))"
   ]
  },
  {
   "cell_type": "code",
   "execution_count": 40,
   "id": "6b1be170",
   "metadata": {},
   "outputs": [
    {
     "name": "stdout",
     "output_type": "stream",
     "text": [
      "42.5\n"
     ]
    }
   ],
   "source": [
    "price = 50\n",
    "discount = 15\n",
    "print(calculateDiscount(price, discount))"
   ]
  },
  {
   "cell_type": "code",
   "execution_count": 42,
   "id": "c755ff77",
   "metadata": {},
   "outputs": [
    {
     "name": "stdout",
     "output_type": "stream",
     "text": [
      "180.0\n"
     ]
    }
   ],
   "source": [
    "price = 200\n",
    "discount = 10\n",
    "print(calculateDiscount(price, discount))"
   ]
  },
  {
   "cell_type": "markdown",
   "id": "0c2da003",
   "metadata": {},
   "source": [
    "# 3) Monthly Payment"
   ]
  },
  {
   "cell_type": "code",
   "execution_count": 478,
   "id": "79d84e3b",
   "metadata": {},
   "outputs": [],
   "source": [
    "def monthlyPayment(principal, rate, years) :\n",
    "    p=principal\n",
    "    r=(rate/100)/12\n",
    "    n=years*12\n",
    "    return (p*r*(1+r)**n)/((1+r)**n-1)\n"
   ]
  },
  {
   "cell_type": "code",
   "execution_count": 480,
   "id": "96f8099b",
   "metadata": {},
   "outputs": [
    {
     "name": "stdout",
     "output_type": "stream",
     "text": [
      "449.0446878088235\n"
     ]
    }
   ],
   "source": [
    "principal = 100000\n",
    "rate = 3.5\n",
    "years = 30\n",
    "print(monthlyPayment(principal, rate, years) )"
   ]
  },
  {
   "cell_type": "code",
   "execution_count": 482,
   "id": "ac6fa68a",
   "metadata": {},
   "outputs": [
    {
     "name": "stdout",
     "output_type": "stream",
     "text": [
      "1849.2198140231444\n"
     ]
    }
   ],
   "source": [
    "principal = 250000\n",
    "rate = 4.0\n",
    "years = 15\n",
    "print(monthlyPayment(principal, rate, years) )"
   ]
  },
  {
   "cell_type": "code",
   "execution_count": 484,
   "id": "bfed922f",
   "metadata": {},
   "outputs": [
    {
     "name": "stdout",
     "output_type": "stream",
     "text": [
      "530.3275761953777\n"
     ]
    }
   ],
   "source": [
    "principal = 50000\n",
    "rate = 5.0\n",
    "years = 10\n",
    "print(monthlyPayment(principal, rate, years) )"
   ]
  },
  {
   "cell_type": "markdown",
   "id": "beb85d0a",
   "metadata": {},
   "source": [
    "# 4) Grading System"
   ]
  },
  {
   "cell_type": "code",
   "execution_count": 378,
   "id": "044795db",
   "metadata": {},
   "outputs": [],
   "source": [
    "def grader (avg_exams, avg_hw, attendance):\n",
    "    if (attendance>16 and avg_hw>75 and avg_exams>75) and (avg_exams>80 or avg_hw>80):\n",
    "        return True \n",
    "    else :\n",
    "        return False"
   ]
  },
  {
   "cell_type": "code",
   "execution_count": 380,
   "id": "1e2b1ae3",
   "metadata": {},
   "outputs": [
    {
     "name": "stdout",
     "output_type": "stream",
     "text": [
      "True\n"
     ]
    }
   ],
   "source": [
    "avg_exams = 76\n",
    "avg_hw = 100\n",
    "attendance =24\n",
    "print(grader(avg_exams, avg_hw, attendance))"
   ]
  },
  {
   "cell_type": "code",
   "execution_count": 382,
   "id": "03b40583",
   "metadata": {},
   "outputs": [
    {
     "name": "stdout",
     "output_type": "stream",
     "text": [
      "False\n"
     ]
    }
   ],
   "source": [
    "avg_exams = 100\n",
    "avg_hw = 90\n",
    "attendance =15\n",
    "print(grader(avg_exams, avg_hw, attendance))"
   ]
  },
  {
   "cell_type": "code",
   "execution_count": 384,
   "id": "c3abdf85",
   "metadata": {},
   "outputs": [
    {
     "name": "stdout",
     "output_type": "stream",
     "text": [
      "False\n"
     ]
    }
   ],
   "source": [
    "avg_exams = 76\n",
    "avg_hw = 78\n",
    "attendance =22\n",
    "print(grader(avg_exams, avg_hw, attendance))"
   ]
  },
  {
   "cell_type": "markdown",
   "id": "2f1d7c48",
   "metadata": {},
   "source": [
    "# 5) Radian to Degree convertion"
   ]
  },
  {
   "cell_type": "code",
   "execution_count": 430,
   "id": "c9255242",
   "metadata": {},
   "outputs": [],
   "source": [
    "import math\n",
    "def radToDegree(rad): \n",
    "    return rad*(180/(math.pi))"
   ]
  },
  {
   "cell_type": "code",
   "execution_count": 432,
   "id": "90af46e1",
   "metadata": {},
   "outputs": [
    {
     "name": "stdout",
     "output_type": "stream",
     "text": [
      "5729.5779513082325\n"
     ]
    }
   ],
   "source": [
    "rad=100\n",
    "print(radToDegree(rad))"
   ]
  },
  {
   "cell_type": "code",
   "execution_count": 434,
   "id": "6c660d97",
   "metadata": {},
   "outputs": [
    {
     "name": "stdout",
     "output_type": "stream",
     "text": [
      "1546.9860468532227\n"
     ]
    }
   ],
   "source": [
    "rad=27\n",
    "print(radToDegree(rad))"
   ]
  },
  {
   "cell_type": "code",
   "execution_count": 436,
   "id": "69e6a5b7",
   "metadata": {},
   "outputs": [
    {
     "name": "stdout",
     "output_type": "stream",
     "text": [
      "57.29577951308232\n"
     ]
    }
   ],
   "source": [
    "rad=1\n",
    "print(radToDegree(rad))"
   ]
  },
  {
   "cell_type": "code",
   "execution_count": null,
   "id": "109f63c3",
   "metadata": {},
   "outputs": [],
   "source": []
  },
  {
   "cell_type": "code",
   "execution_count": null,
   "id": "95abece3-85c3-40e7-ab91-3b9f516db1db",
   "metadata": {},
   "outputs": [],
   "source": [
    "                                                              "
   ]
  },
  {
   "cell_type": "code",
   "execution_count": null,
   "id": "d187a6c8-5e31-4445-9586-8409852bc560",
   "metadata": {},
   "outputs": [],
   "source": []
  }
 ],
 "metadata": {
  "kernelspec": {
   "display_name": "Python 3 (ipykernel)",
   "language": "python",
   "name": "python3"
  },
  "language_info": {
   "codemirror_mode": {
    "name": "ipython",
    "version": 3
   },
   "file_extension": ".py",
   "mimetype": "text/x-python",
   "name": "python",
   "nbconvert_exporter": "python",
   "pygments_lexer": "ipython3",
   "version": "3.12.4"
  }
 },
 "nbformat": 4,
 "nbformat_minor": 5
}
