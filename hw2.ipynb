{
 "cells": [
  {
   "cell_type": "markdown",
   "id": "4afa5ad9-4bed-4d65-baca-30635d4f9c33",
   "metadata": {},
   "source": [
    "HW2, CS103 Fall 2024\n",
    "\n",
    "name: Yahni Jemison\n",
    "\n",
    "blazerid:yjemison"
   ]
  },
  {
   "cell_type": "markdown",
   "id": "bf954734-e5b3-45de-877b-e15c3447e735",
   "metadata": {},
   "source": [
    "Practice Problem"
   ]
  },
  {
   "cell_type": "code",
   "execution_count": 38,
   "id": "b1b76b41-d30c-44e0-9174-081523809e1f",
   "metadata": {},
   "outputs": [],
   "source": [
    "def p(x):\n",
    "    if x>0 or x<0:\n",
    "        return 0\n",
    "    else:\n",
    "        return 1"
   ]
  },
  {
   "cell_type": "code",
   "execution_count": 40,
   "id": "f7b76ff8-1004-4b5c-bc36-035619ae3285",
   "metadata": {},
   "outputs": [
    {
     "name": "stdout",
     "output_type": "stream",
     "text": [
      "0\n"
     ]
    }
   ],
   "source": [
    "print (p(5))"
   ]
  },
  {
   "cell_type": "markdown",
   "id": "a537e223-08d4-4c7f-9fea-e0b0f01b70b8",
   "metadata": {},
   "source": [
    "Mandatory Function"
   ]
  },
  {
   "cell_type": "code",
   "execution_count": 20,
   "id": "07b04089-f20c-44ec-996a-2be3f65d067f",
   "metadata": {},
   "outputs": [],
   "source": [
    "def myName():\n",
    "    return \"Yahni Jemison\"\n"
   ]
  },
  {
   "cell_type": "code",
   "execution_count": 30,
   "id": "374a3116-ccf9-4218-a0d5-0901199cf82c",
   "metadata": {},
   "outputs": [],
   "source": [
    "def myBlazerID():\n",
    "    return \"yjemison\""
   ]
  },
  {
   "cell_type": "code",
   "execution_count": 42,
   "id": "96ec09fc-e704-447c-9cec-ede7d6c0e19f",
   "metadata": {},
   "outputs": [
    {
     "name": "stdout",
     "output_type": "stream",
     "text": [
      "My Name is = Yahni Jemison and my BlazerId is = yjemison\n"
     ]
    }
   ],
   "source": [
    "print(\"My Name is =\",myName(), \"and my BlazerId is =\",myBlazerID())"
   ]
  },
  {
   "cell_type": "markdown",
   "id": "39aaecb0-5c3d-42cf-bb69-b71f8a34966f",
   "metadata": {},
   "source": [
    "Problem 1"
   ]
  },
  {
   "cell_type": "code",
   "execution_count": 65,
   "id": "5346535d-8b63-4ea2-a64a-bca6dcb81f54",
   "metadata": {},
   "outputs": [],
   "source": [
    "def isEven(n):\n",
    "    if n %2==0:\n",
    "        return True\n",
    "    else:\n",
    "        return False"
   ]
  },
  {
   "cell_type": "code",
   "execution_count": 71,
   "id": "34b7ed32-fc3e-422e-a990-6828def5429a",
   "metadata": {},
   "outputs": [
    {
     "name": "stdout",
     "output_type": "stream",
     "text": [
      "True\n",
      "False\n"
     ]
    }
   ],
   "source": [
    "print(isEven(6))\n",
    "print(isEven(6.1))"
   ]
  },
  {
   "cell_type": "markdown",
   "id": "abb21645-338a-426f-9594-8397c85a2378",
   "metadata": {},
   "source": [
    "Problem 2"
   ]
  },
  {
   "cell_type": "code",
   "execution_count": 110,
   "id": "717bc872-1b9a-4ea6-9dd7-fcdb6eb2cfd4",
   "metadata": {},
   "outputs": [],
   "source": [
    "def paintTheFloor(length, width, costPerSquareFoot):\n",
    "    l= length\n",
    "    w= width\n",
    "    c= costPerSquareFoot\n",
    "    return int(l*w*c)"
   ]
  },
  {
   "cell_type": "code",
   "execution_count": 112,
   "id": "325bd4be-89c6-4483-a3f0-88a77b1ad15f",
   "metadata": {},
   "outputs": [
    {
     "name": "stdout",
     "output_type": "stream",
     "text": [
      "300\n",
      "20000\n",
      "75\n"
     ]
    }
   ],
   "source": [
    "print(paintTheFloor(10, 12, 2.5))\n",
    "print(paintTheFloor(100, 100, 2))\n",
    "print(paintTheFloor(5, 5, 3))"
   ]
  },
  {
   "cell_type": "markdown",
   "id": "38014b56-af53-4d47-b442-7df1703c40e2",
   "metadata": {},
   "source": [
    "Problem 3"
   ]
  },
  {
   "cell_type": "code",
   "execution_count": 211,
   "id": "c998fd9d-496b-42f6-8c0d-6cb3183bf543",
   "metadata": {},
   "outputs": [],
   "source": [
    "def differenceToMagic(listOfInt, magicDifference):\n",
    "    ints= listOfInt\n",
    "    m= magicDifference\n",
    "    for i in range(len(ints)-1):\n",
    "        if ints[i+1]-ints[i]==m:\n",
    "            print([i,i+1])"
   ]
  },
  {
   "cell_type": "code",
   "execution_count": 213,
   "id": "fee230dd-9c15-410f-900b-4a670003c61f",
   "metadata": {},
   "outputs": [
    {
     "name": "stdout",
     "output_type": "stream",
     "text": [
      "[0, 1]\n"
     ]
    }
   ],
   "source": [
    "differenceToMagic([10, 20, 60, 80], 10)"
   ]
  },
  {
   "cell_type": "code",
   "execution_count": 217,
   "id": "a2e36767-24b1-4bc6-8dca-8b65d71690a3",
   "metadata": {},
   "outputs": [
    {
     "name": "stdout",
     "output_type": "stream",
     "text": [
      "[1, 2]\n"
     ]
    }
   ],
   "source": [
    "differenceToMagic([15, 40, 70, 20],30)"
   ]
  },
  {
   "cell_type": "code",
   "execution_count": 221,
   "id": "a7a4ee97-efde-4096-a32e-60b34efe02c6",
   "metadata": {},
   "outputs": [
    {
     "name": "stdout",
     "output_type": "stream",
     "text": [
      "[3, 4]\n"
     ]
    }
   ],
   "source": [
    "differenceToMagic([1000,99,11,1,24],23)"
   ]
  },
  {
   "cell_type": "markdown",
   "id": "2b69ae45-7a45-43dd-8eee-ba76823478af",
   "metadata": {},
   "source": [
    "Problem 4"
   ]
  },
  {
   "cell_type": "code",
   "execution_count": 273,
   "id": "4f6b40d7-38ac-473f-8b43-b282b152beee",
   "metadata": {},
   "outputs": [],
   "source": [
    "def tupleCounter (t):\n",
    "    x=0\n",
    "    for i in t:\n",
    "        if i%2==0:\n",
    "            x= x+1\n",
    "    print (x)"
   ]
  },
  {
   "cell_type": "code",
   "execution_count": 275,
   "id": "1252545f-d0f4-4d09-93fa-c656db3b508e",
   "metadata": {},
   "outputs": [
    {
     "name": "stdout",
     "output_type": "stream",
     "text": [
      "3\n"
     ]
    }
   ],
   "source": [
    "tupleCounter([2,4,6,7,9,121,1])"
   ]
  },
  {
   "cell_type": "code",
   "execution_count": 279,
   "id": "3d2213a6-59c7-49b9-a1bd-718c1839218d",
   "metadata": {},
   "outputs": [
    {
     "name": "stdout",
     "output_type": "stream",
     "text": [
      "0\n"
     ]
    }
   ],
   "source": [
    "tupleCounter([1,3])"
   ]
  },
  {
   "cell_type": "code",
   "execution_count": 281,
   "id": "dde0a94e-3a91-4c34-9e2c-72b0eb9c9a97",
   "metadata": {},
   "outputs": [
    {
     "name": "stdout",
     "output_type": "stream",
     "text": [
      "3\n"
     ]
    }
   ],
   "source": [
    "tupleCounter([10,30,44])"
   ]
  },
  {
   "cell_type": "markdown",
   "id": "dcb6267b-23be-4c1a-89dd-0ef27576dfb2",
   "metadata": {},
   "source": [
    "Problem 5"
   ]
  },
  {
   "cell_type": "code",
   "execution_count": 294,
   "id": "6c254ee0-b905-4a75-94bc-6f0a6bf3eadc",
   "metadata": {},
   "outputs": [],
   "source": [
    "def greaterThanIndex(listOfNumbers):\n",
    "    total=0\n",
    "    list=listOfNumbers\n",
    "    for i in range(len(list)):\n",
    "        if list[i]>i:\n",
    "            total= total+1\n",
    "    print(total)"
   ]
  },
  {
   "cell_type": "code",
   "execution_count": 302,
   "id": "9096eede-796b-40f3-9e5b-56c2df10a9fc",
   "metadata": {},
   "outputs": [
    {
     "name": "stdout",
     "output_type": "stream",
     "text": [
      "3\n"
     ]
    }
   ],
   "source": [
    "greaterThanIndex([10,20,1,2,30])"
   ]
  },
  {
   "cell_type": "code",
   "execution_count": 304,
   "id": "77306c87-3954-4835-82a1-38e547045bb4",
   "metadata": {},
   "outputs": [
    {
     "name": "stdout",
     "output_type": "stream",
     "text": [
      "5\n"
     ]
    }
   ],
   "source": [
    "greaterThanIndex([1,2,0,44,29,309])"
   ]
  },
  {
   "cell_type": "code",
   "execution_count": 306,
   "id": "e7fc6e48-c213-4ef1-838c-57f05b7a43fd",
   "metadata": {},
   "outputs": [
    {
     "name": "stdout",
     "output_type": "stream",
     "text": [
      "0\n"
     ]
    }
   ],
   "source": [
    "greaterThanIndex([0,1,2,3])"
   ]
  },
  {
   "cell_type": "code",
   "execution_count": null,
   "id": "1e302a42-d9a5-40ce-998e-2dcf42bdc06f",
   "metadata": {},
   "outputs": [],
   "source": []
  }
 ],
 "metadata": {
  "kernelspec": {
   "display_name": "Python 3 (ipykernel)",
   "language": "python",
   "name": "python3"
  },
  "language_info": {
   "codemirror_mode": {
    "name": "ipython",
    "version": 3
   },
   "file_extension": ".py",
   "mimetype": "text/x-python",
   "name": "python",
   "nbconvert_exporter": "python",
   "pygments_lexer": "ipython3",
   "version": "3.12.4"
  }
 },
 "nbformat": 4,
 "nbformat_minor": 5
}
